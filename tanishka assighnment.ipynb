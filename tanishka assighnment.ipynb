{
 "cells": [
  {
   "cell_type": "code",
   "execution_count": 1,
   "id": "d01a03f1-4c93-407d-9ee9-38c11233a1c0",
   "metadata": {},
   "outputs": [
    {
     "name": "stdin",
     "output_type": "stream",
     "text": [
      "Enter the start value:  10\n",
      "Enter the end value:  20\n"
     ]
    },
    {
     "name": "stdout",
     "output_type": "stream",
     "text": [
      "1D NumPy array: [10 11 12 13 14 15 16 17 18 19 20]\n"
     ]
    }
   ],
   "source": [
    "import numpy as np\n",
    "\n",
    "start = int(input(\"Enter the start value: \"))\n",
    "end = int(input(\"Enter the end value: \"))\n",
    "\n",
    "arr = np.arange(start, end + 1)\n",
    "\n",
    "print(\"1D NumPy array:\", arr)\n",
    "\n"
   ]
  },
  {
   "cell_type": "code",
   "execution_count": 6,
   "id": "62d21ab5-7838-4e10-8d4d-4ee41fc4c7fa",
   "metadata": {},
   "outputs": [
    {
     "name": "stdout",
     "output_type": "stream",
     "text": [
      "2D NumPy array:\n",
      "[[1 2 3]\n",
      " [4 5 6]\n",
      " [7 8 9]]\n"
     ]
    }
   ],
   "source": [
    "import numpy as np\n",
    "\n",
    "arr = np.arange(1, 10).reshape(3, 3)\n",
    "\n",
    "print(\"2D NumPy array:\")\n",
    "print(arr)\n"
   ]
  },
  {
   "cell_type": "code",
   "execution_count": 7,
   "id": "13a44a71-d0ca-4e7e-ab1b-57e0417fa5d9",
   "metadata": {},
   "outputs": [
    {
     "name": "stdout",
     "output_type": "stream",
     "text": [
      "3D NumPy array with random floats:\n",
      "[[[0.0126081  0.54293356 0.68153909]\n",
      "  [0.26692654 0.52160794 0.9415016 ]\n",
      "  [0.23977873 0.51427645 0.65049388]\n",
      "  [0.88757388 0.06628088 0.02744966]\n",
      "  [0.1959109  0.52400479 0.93141098]]\n",
      "\n",
      " [[0.12583173 0.85692964 0.93507548]\n",
      "  [0.05670693 0.24797579 0.16744962]\n",
      "  [0.53782423 0.80865769 0.30514261]\n",
      "  [0.34465646 0.06167262 0.11946686]\n",
      "  [0.47450932 0.94541545 0.65464601]]\n",
      "\n",
      " [[0.37862446 0.49751086 0.32866665]\n",
      "  [0.63959448 0.88650065 0.5797158 ]\n",
      "  [0.58237929 0.44169662 0.3132773 ]\n",
      "  [0.54109638 0.26770952 0.42152507]\n",
      "  [0.2315092  0.62255223 0.29488616]]]\n"
     ]
    }
   ],
   "source": [
    "import numpy as np\n",
    "\n",
    "arr = np.random.rand(3, 5, 3)\n",
    "\n",
    "print(\"3D NumPy array with random floats:\")\n",
    "print(arr)\n"
   ]
  },
  {
   "cell_type": "code",
   "execution_count": 8,
   "id": "87632645-f019-430d-b4c2-e5df9044df7d",
   "metadata": {},
   "outputs": [
    {
     "name": "stdout",
     "output_type": "stream",
     "text": [
      "NumPy array: [10 20 30 40 50 60 70 80 90]\n"
     ]
    }
   ],
   "source": [
    "import numpy as np\n",
    "\n",
    "data = [10, 20, 30, 40, 50, 60, 70, 80, 90]\n",
    "\n",
    "arr = np.array(data)\n",
    "\n",
    "print(\"NumPy array:\", arr)\n"
   ]
  },
  {
   "cell_type": "code",
   "execution_count": 9,
   "id": "43f0f7c0-280b-4527-a4ae-eea328368d44",
   "metadata": {},
   "outputs": [
    {
     "name": "stdout",
     "output_type": "stream",
     "text": [
      "Original array: [10 20 30 40 50 60 70 80 90]\n",
      "First three elements: [10 20 30]\n",
      "Every alternate element: [10 30 50 70 90]\n",
      "Reversed array: [90 80 70 60 50 40 30 20 10]\n"
     ]
    }
   ],
   "source": [
    "import numpy as np\n",
    "\n",
    "data = [10, 20, 30, 40, 50, 60, 70, 80, 90]\n",
    "\n",
    "arr = np.array(data)\n",
    "\n",
    "first_three = arr[:3]\n",
    "\n",
    "alternate_elements = arr[::2]\n",
    "\n",
    "reversed_array = arr[::-1]\n",
    "\n",
    "print(\"Original array:\", arr)\n",
    "print(\"First three elements:\", first_three)\n",
    "print(\"Every alternate element:\", alternate_elements)\n",
    "print(\"Reversed array:\", reversed_array)\n"
   ]
  },
  {
   "cell_type": "code",
   "execution_count": 10,
   "id": "aa75d08e-86d3-480b-913f-87b2d515bf27",
   "metadata": {},
   "outputs": [
    {
     "name": "stdout",
     "output_type": "stream",
     "text": [
      "Original array: [10 20 30 40 50 60 70 80 90]\n"
     ]
    }
   ],
   "source": [
    "import numpy as np\n",
    "\n",
    "data = [10, 20, 30, 40, 50, 60, 70, 80, 90]\n",
    "arr = np.array(data)\n",
    "\n",
    "print(\"Original array:\", arr)\n"
   ]
  },
  {
   "cell_type": "code",
   "execution_count": 11,
   "id": "96e70d47-f1e5-42d4-a555-7b69c5bff977",
   "metadata": {},
   "outputs": [
    {
     "name": "stdout",
     "output_type": "stream",
     "text": [
      "Array A: [ 1 14  2  2 20]\n",
      "Array B: [13 18 17  7  2]\n"
     ]
    }
   ],
   "source": [
    "import numpy as np\n",
    "\n",
    "A = np.random.randint(1, 21, size=5)\n",
    "\n",
    "B = np.random.randint(1, 21, size=5)\n",
    "\n",
    "print(\"Array A:\", A)\n",
    "print(\"Array B:\", B)\n"
   ]
  },
  {
   "cell_type": "code",
   "execution_count": 12,
   "id": "c3b22cd1-3c6b-4c86-9dc4-c082e8716d75",
   "metadata": {},
   "outputs": [
    {
     "name": "stdout",
     "output_type": "stream",
     "text": [
      "Array A: [13 16  1  4  4]\n",
      "Array B: [ 8 10 20 19  5]\n",
      "\n",
      "Element-wise Addition: [21 26 21 23  9]\n",
      "Element-wise Subtraction: [  5   6 -19 -15  -1]\n",
      "Element-wise Multiplication: [104 160  20  76  20]\n",
      "Element-wise Division: [1.625      1.6        0.05       0.21052632 0.8       ]\n",
      "\n",
      "Dot Product of A and B: 380\n",
      "\n",
      "Statistics for Array A:\n",
      "Mean: 7.6\n",
      "Median: 4.0\n",
      "Standard Deviation: 5.817215828899595\n",
      "Variance: 33.84\n",
      "\n",
      "Max and Min in Array B:\n",
      "Maximum value in B: 20 at index 2\n",
      "Minimum value in B: 5 at index 4\n"
     ]
    }
   ],
   "source": [
    "import numpy as np\n",
    "\n",
    "np.random.seed(0)\n",
    "\n",
    "A = np.random.randint(1, 21, size=5)\n",
    "B = np.random.randint(1, 21, size=5)\n",
    "\n",
    "print(\"Array A:\", A)\n",
    "print(\"Array B:\", B)\n",
    "\n",
    "add = A + B\n",
    "subtract = A - B\n",
    "multiply = A * B\n",
    "divide = A / B\n",
    "\n",
    "print(\"\\nElement-wise Addition:\", add)\n",
    "print(\"Element-wise Subtraction:\", subtract)\n",
    "print(\"Element-wise Multiplication:\", multiply)\n",
    "print(\"Element-wise Division:\", divide)\n",
    "\n",
    "dot_product = np.dot(A, B)\n",
    "print(\"\\nDot Product of A and B:\", dot_product)\n",
    "\n",
    "mean_A = np.mean(A)\n",
    "median_A = np.median(A)\n",
    "std_A = np.std(A)\n",
    "var_A = np.var(A)\n",
    "\n",
    "print(\"\\nStatistics for Array A:\")\n",
    "print(\"Mean:\", mean_A)\n",
    "print(\"Median:\", median_A)\n",
    "print(\"Standard Deviation:\", std_A)\n",
    "print(\"Variance:\", var_A)\n",
    "\n",
    "max_B = np.max(B)\n",
    "min_B = np.min(B)\n",
    "max_index_B = np.argmax(B)\n",
    "min_index_B = np.argmin(B)\n",
    "\n",
    "print(\"\\nMax and Min in Array B:\")\n",
    "print(\"Maximum value in B:\", max_B, \"at index\", max_index_B)\n",
    "print(\"Minimum value in B:\", min_B, \"at index\", min_index_B)\n"
   ]
  },
  {
   "cell_type": "code",
   "execution_count": 13,
   "id": "a06ffd23-6e95-42f5-9a83-4d06ff34917a",
   "metadata": {},
   "outputs": [
    {
     "name": "stdout",
     "output_type": "stream",
     "text": [
      "1D NumPy array: [ 1  2  3  4  5  6  7  8  9 10 11 12]\n"
     ]
    }
   ],
   "source": [
    "import numpy as np\n",
    "\n",
    "arr = np.arange(1, 13)\n",
    "\n",
    "print(\"1D NumPy array:\", arr)\n"
   ]
  },
  {
   "cell_type": "code",
   "execution_count": 14,
   "id": "627638a2-e785-4cc8-96b8-8604951862b9",
   "metadata": {},
   "outputs": [
    {
     "name": "stdout",
     "output_type": "stream",
     "text": [
      "Original 1D array: [ 1  2  3  4  5  6  7  8  9 10 11 12]\n",
      "\n",
      "Reshaped to 2D (4x3):\n",
      " [[ 1  2  3]\n",
      " [ 4  5  6]\n",
      " [ 7  8  9]\n",
      " [10 11 12]]\n",
      "\n",
      "Reshaped to 3D (2x2x3):\n",
      " [[[ 1  2  3]\n",
      "  [ 4  5  6]]\n",
      "\n",
      " [[ 7  8  9]\n",
      "  [10 11 12]]]\n",
      "\n",
      "Transposed 2D array:\n",
      " [[ 1  4  7 10]\n",
      " [ 2  5  8 11]\n",
      " [ 3  6  9 12]]\n",
      "Shape of transposed array: (3, 4)\n"
     ]
    }
   ],
   "source": [
    "import numpy as np\n",
    "\n",
    "arr = np.arange(1, 13)\n",
    "print(\"Original 1D array:\", arr)\n",
    "\n",
    "arr_2d = arr.reshape(4, 3)\n",
    "print(\"\\nReshaped to 2D (4x3):\\n\", arr_2d)\n",
    "\n",
    "arr_3d = arr.reshape(2, 2, 3)\n",
    "print(\"\\nReshaped to 3D (2x2x3):\\n\", arr_3d)\n",
    "\n",
    "arr_2d_transposed = arr_2d.T\n",
    "print(\"\\nTransposed 2D array:\\n\", arr_2d_transposed)\n",
    "print(\"Shape of transposed array:\", arr_2d_transposed.shape)\n"
   ]
  },
  {
   "cell_type": "code",
   "execution_count": 15,
   "id": "940b98ab-2930-4132-9d05-d41139c12c84",
   "metadata": {},
   "outputs": [
    {
     "name": "stdout",
     "output_type": "stream",
     "text": [
      "NumPy array with 15 random integers between 10 and 50:\n",
      "[33 16 34 34 22 11 48 49 33 34 27 47 35 23 18]\n"
     ]
    }
   ],
   "source": [
    "import numpy as np\n",
    "\n",
    "\n",
    "arr = np.random.randint(10, 50, size=15)\n",
    "\n",
    "print(\"NumPy array with 15 random integers between 10 and 50:\")\n",
    "print(arr)\n"
   ]
  },
  {
   "cell_type": "code",
   "execution_count": 16,
   "id": "951044f8-9151-4d07-8b60-339bb20f1309",
   "metadata": {},
   "outputs": [
    {
     "name": "stdout",
     "output_type": "stream",
     "text": [
      "NumPy array with 15 random integers between 10 and 50:\n",
      "[19 30 26 15 25 10 28 45 34 39 29 29 24 49 42]\n"
     ]
    }
   ],
   "source": [
    "import numpy as np\n",
    "\n",
    "arr = np.random.randint(10, 50, size=15)\n",
    "\n",
    "print(\"NumPy array with 15 random integers between 10 and 50:\")\n",
    "print(arr)\n"
   ]
  },
  {
   "cell_type": "code",
   "execution_count": 17,
   "id": "cda76376-dfb2-4d03-8752-531b608c30d9",
   "metadata": {},
   "outputs": [
    {
     "name": "stdout",
     "output_type": "stream",
     "text": [
      "Original array: [10 13 13 49 19 29 31 46 33 16 34 34 22 11 48]\n",
      "\n",
      "Elements greater than 25: [49 29 31 46 33 34 34 48]\n",
      "\n",
      "Array after replacing elements < 30 with 0: [ 0  0  0 49  0  0 31 46 33  0 34 34  0  0 48]\n",
      "\n",
      "Number of elements divisible by 5: 1\n"
     ]
    }
   ],
   "source": [
    "import numpy as np\n",
    "\n",
    "np.random.seed(0)\n",
    "\n",
    "arr = np.random.randint(10, 50, size=15)\n",
    "print(\"Original array:\", arr)\n",
    "\n",
    "greater_than_25 = arr[arr > 25]\n",
    "print(\"\\nElements greater than 25:\", greater_than_25)\n",
    "\n",
    "arr_modified = arr.copy()\n",
    "arr_modified[arr_modified < 30] = 0\n",
    "print(\"\\nArray after replacing elements < 30 with 0:\", arr_modified)\n",
    "\n",
    "count_div_5 = np.sum(arr % 5 == 0)\n",
    "print(\"\\nNumber of elements divisible by 5:\", count_div_5)\n"
   ]
  },
  {
   "cell_type": "code",
   "execution_count": 18,
   "id": "e8b8838e-3e6c-43ff-a970-a2bb1a0d6371",
   "metadata": {},
   "outputs": [
    {
     "name": "stdout",
     "output_type": "stream",
     "text": [
      "1. Equally spaced values between 0 and 1:\n",
      "[0.         0.11111111 0.22222222 0.33333333 0.44444444 0.55555556\n",
      " 0.66666667 0.77777778 0.88888889 1.        ]\n",
      "\n",
      "2. Identity matrix (4x4):\n",
      "[[1. 0. 0. 0.]\n",
      " [0. 1. 0. 0.]\n",
      " [0. 0. 1. 0.]\n",
      " [0. 0. 0. 1.]]\n",
      "\n",
      "3. Random array of 20 integers between 1 and 100:\n",
      "Original array: [ 40  88  47  89  82  38  26  78  73  10  21  81  70  80  48  65  83 100\n",
      "  89  50]\n",
      "Sorted array: [ 10  21  26  38  40  47  48  50  65  70  73  78  80  81  82  83  88  89\n",
      "  89 100]\n",
      "Top 5 largest elements: [ 83  88  89  89 100]\n"
     ]
    }
   ],
   "source": [
    "import numpy as np\n",
    "\n",
    "equal_spaced = np.linspace(0, 1, 10)\n",
    "print(\"1. Equally spaced values between 0 and 1:\")\n",
    "print(equal_spaced)\n",
    "\n",
    "identity_matrix = np.eye(4)\n",
    "print(\"\\n2. Identity matrix (4x4):\")\n",
    "print(identity_matrix)\n",
    "\n",
    "arr = np.random.randint(1, 101, size=20)\n",
    "print(\"\\n3. Random array of 20 integers between 1 and 100:\")\n",
    "print(\"Original array:\", arr)\n",
    "\n",
    "sorted_arr = np.sort(arr)\n",
    "print(\"Sorted array:\", sorted_arr)\n",
    "\n",
    "top_5 = sorted_arr[-5:]\n",
    "print(\"Top 5 largest elements:\", top_5)\n"
   ]
  },
  {
   "cell_type": "code",
   "execution_count": 19,
   "id": "21385ed1-c068-4c9f-b297-9f801dc38d7b",
   "metadata": {},
   "outputs": [
    {
     "name": "stdout",
     "output_type": "stream",
     "text": [
      "Matrix multiplication completed in 0.0021 seconds\n",
      "\n",
      "Determinant: 6.015853695968612e+50\n",
      "Determinant calculation completed in 0.0019 seconds\n",
      "\n",
      "Inverse calculation completed in 0.0403 seconds\n",
      "Inverse matrix shape: (100, 100)\n"
     ]
    }
   ],
   "source": [
    "import numpy as np\n",
    "import time\n",
    "\n",
    "np.random.seed(0)  \n",
    "A = np.random.rand(100, 100)\n",
    "B = np.random.rand(100, 100)\n",
    "\n",
    "start_time = time.time()\n",
    "product = np.dot(A, B)\n",
    "end_time = time.time()\n",
    "print(\"Matrix multiplication completed in {:.4f} seconds\".format(end_time - start_time))\n",
    "\n",
    "start_time = time.time()\n",
    "det = np.linalg.det(product)\n",
    "end_time = time.time()\n",
    "print(\"\\nDeterminant:\", det)\n",
    "print(\"Determinant calculation completed in {:.4f} seconds\".format(end_time - start_time))\n",
    "\n",
    "start_time = time.time()\n",
    "if np.isclose(det, 0):\n",
    "    print(\"\\nMatrix is not invertible (determinant is close to 0).\")\n",
    "    inverse = None\n",
    "else:\n",
    "    inverse = np.linalg.inv(product)\n",
    "    end_time = time.time()\n",
    "    print(\"\\nInverse calculation completed in {:.4f} seconds\".format(end_time - start_time))\n",
    "\n",
    "if inverse is not None:\n",
    "    print(\"Inverse matrix shape:\", inverse.shape)\n"
   ]
  },
  {
   "cell_type": "code",
   "execution_count": 2,
   "id": "880b52e5-15c4-4e2d-a82b-f1c5f0968891",
   "metadata": {},
   "outputs": [
    {
     "name": "stdout",
     "output_type": "stream",
     "text": [
      "Original Series:\n",
      "0    25\n",
      "1    30\n",
      "2    35\n",
      "3    40\n",
      "4    45\n",
      "dtype: int64\n",
      "\n",
      "Series with custom indices:\n",
      "A    25\n",
      "B    30\n",
      "C    35\n",
      "D    40\n",
      "E    45\n",
      "dtype: int64\n",
      "\n",
      "First three elements of the Series:\n",
      "A    25\n",
      "B    30\n",
      "C    35\n",
      "dtype: int64\n",
      "\n",
      "Statistics:\n",
      "Mean: 35.0\n",
      "Median: 35.0\n",
      "Standard Deviation: 7.905694150420948\n"
     ]
    }
   ],
   "source": [
    "import pandas as pd\n",
    "\n",
    "data = [25, 30, 35, 40, 45]\n",
    "series = pd.Series(data)\n",
    "\n",
    "print(\"Original Series:\")\n",
    "print(series)\n",
    "\n",
    "series.index = ['A', 'B', 'C', 'D', 'E']\n",
    "\n",
    "print(\"\\nSeries with custom indices:\")\n",
    "print(series)\n",
    "\n",
    "first_three = series[:3]\n",
    "print(\"\\nFirst three elements of the Series:\")\n",
    "print(first_three)\n",
    "\n",
    "mean_val = series.mean()\n",
    "median_val = series.median()\n",
    "std_val = series.std()\n",
    "\n",
    "print(\"\\nStatistics:\")\n",
    "print(\"Mean:\", mean_val)\n",
    "print(\"Median:\", median_val)\n",
    "print(\"Standard Deviation:\", std_val)\n"
   ]
  },
  {
   "cell_type": "code",
   "execution_count": 3,
   "id": "25d6dd15-5fb5-4318-b7b6-55208bcd9145",
   "metadata": {},
   "outputs": [
    {
     "name": "stdout",
     "output_type": "stream",
     "text": [
      "First three elements of the Series:\n",
      "A    10\n",
      "B    20\n",
      "C    30\n",
      "dtype: int64\n",
      "\n",
      "Statistics:\n",
      "Mean: 30.0\n",
      "Median: 30.0\n",
      "Standard Deviation: 15.811388300841896\n"
     ]
    }
   ],
   "source": [
    "import pandas as pd\n",
    "\n",
    "data = [10, 20, 30, 40, 50]\n",
    "\n",
    "custom_indices = ['A', 'B', 'C', 'D', 'E']\n",
    "series = pd.Series(data, index=custom_indices)\n",
    "\n",
    "print(\"First three elements of the Series:\")\n",
    "print(series.head(3))\n",
    "\n",
    "mean_value = series.mean()\n",
    "median_value = series.median()\n",
    "std_deviation = series.std()\n",
    "\n",
    "print(\"\\nStatistics:\")\n",
    "print(f\"Mean: {mean_value}\")\n",
    "print(f\"Median: {median_value}\")\n",
    "print(f\"Standard Deviation: {std_deviation}\")\n"
   ]
  },
  {
   "cell_type": "code",
   "execution_count": 4,
   "id": "92cfc318-3bbd-452b-be93-1253f089750f",
   "metadata": {},
   "outputs": [
    {
     "name": "stdout",
     "output_type": "stream",
     "text": [
      "Student DataFrame:\n",
      "    Name  Age  Gender  Marks\n",
      "0  Alice   20  Female     85\n",
      "1    Bob   22    Male     78\n",
      "2  Carol   19  Female     92\n",
      "3  David   21    Male     74\n",
      "4    Eve   20  Female     88\n"
     ]
    }
   ],
   "source": [
    "import pandas as pd\n",
    "\n",
    "data = {\n",
    "    'Name': ['Alice', 'Bob', 'Carol', 'David', 'Eve'],\n",
    "    'Age': [20, 22, 19, 21, 20],\n",
    "    'Gender': ['Female', 'Male', 'Female', 'Male', 'Female'],\n",
    "    'Marks': [85, 78, 92, 74, 88]\n",
    "}\n",
    "\n",
    "df = pd.DataFrame(data)\n",
    "\n",
    "print(\"Student DataFrame:\")\n",
    "print(df)\n"
   ]
  },
  {
   "cell_type": "code",
   "execution_count": 5,
   "id": "6f499110-e994-4b9d-8277-50858133e464",
   "metadata": {},
   "outputs": [
    {
     "name": "stdout",
     "output_type": "stream",
     "text": [
      "First two rows of the DataFrame:\n",
      "    Name  Age  Gender  Marks\n",
      "0  Alice   20  Female     85\n",
      "1    Bob   22    Male     78\n",
      "\n",
      "Column Names:\n",
      "['Name', 'Age', 'Gender', 'Marks']\n",
      "\n",
      "Data Types:\n",
      "Name      object\n",
      "Age        int64\n",
      "Gender    object\n",
      "Marks      int64\n",
      "dtype: object\n",
      "\n",
      "Summary Statistics:\n",
      "         Name        Age  Gender      Marks\n",
      "count       5   5.000000       5   5.000000\n",
      "unique      5        NaN       2        NaN\n",
      "top     Alice        NaN  Female        NaN\n",
      "freq        1        NaN       3        NaN\n",
      "mean      NaN  20.400000     NaN  83.400000\n",
      "std       NaN   1.140175     NaN   7.334848\n",
      "min       NaN  19.000000     NaN  74.000000\n",
      "25%       NaN  20.000000     NaN  78.000000\n",
      "50%       NaN  20.000000     NaN  85.000000\n",
      "75%       NaN  21.000000     NaN  88.000000\n",
      "max       NaN  22.000000     NaN  92.000000\n",
      "\n",
      "Updated DataFrame with 'Passed' column:\n",
      "    Name  Age  Gender  Marks  Passed\n",
      "0  Alice   20  Female     85    True\n",
      "1    Bob   22    Male     78   False\n",
      "2  Carol   19  Female     92    True\n",
      "3  David   21    Male     74   False\n",
      "4    Eve   20  Female     88    True\n"
     ]
    }
   ],
   "source": [
    "import pandas as pd\n",
    "\n",
    "data = {\n",
    "    'Name': ['Alice', 'Bob', 'Carol', 'David', 'Eve'],\n",
    "    'Age': [20, 22, 19, 21, 20],\n",
    "    'Gender': ['Female', 'Male', 'Female', 'Male', 'Female'],\n",
    "    'Marks': [85, 78, 92, 74, 88]\n",
    "}\n",
    "\n",
    "df = pd.DataFrame(data)\n",
    "\n",
    "print(\"First two rows of the DataFrame:\")\n",
    "print(df.head(2))\n",
    "\n",
    "print(\"\\nColumn Names:\")\n",
    "print(df.columns.tolist())\n",
    "\n",
    "print(\"\\nData Types:\")\n",
    "print(df.dtypes)\n",
    "\n",
    "print(\"\\nSummary Statistics:\")\n",
    "print(df.describe(include='all'))\n",
    "\n",
    "df['Passed'] = df['Marks'] >= 80\n",
    "\n",
    "print(\"\\nUpdated DataFrame with 'Passed' column:\")\n",
    "print(df)\n"
   ]
  },
  {
   "cell_type": "code",
   "execution_count": 6,
   "id": "18d00788-e9b9-420b-8e75-1bee7db22ede",
   "metadata": {},
   "outputs": [
    {
     "name": "stdout",
     "output_type": "stream",
     "text": [
      "Name and Marks columns:\n",
      "    Name  Marks\n",
      "0  Alice     85\n",
      "1    Bob     78\n",
      "2  Carol     92\n",
      "3  David     74\n",
      "4    Eve     88\n",
      "\n",
      "Students with Marks > 80:\n",
      "    Name  Age  Gender  Marks\n",
      "0  Alice   20  Female     85\n",
      "2  Carol   19  Female     92\n",
      "4    Eve   20  Female     88\n",
      "\n",
      "Student with the highest marks:\n",
      "    Name  Age  Gender  Marks\n",
      "2  Carol   19  Female     92\n"
     ]
    }
   ],
   "source": [
    "import pandas as pd\n",
    "\n",
    "data = {\n",
    "    'Name': ['Alice', 'Bob', 'Carol', 'David', 'Eve'],\n",
    "    'Age': [20, 22, 19, 21, 20],\n",
    "    'Gender': ['Female', 'Male', 'Female', 'Male', 'Female'],\n",
    "    'Marks': [85, 78, 92, 74, 88]\n",
    "}\n",
    "\n",
    "df = pd.DataFrame(data)\n",
    "\n",
    "print(\"Name and Marks columns:\")\n",
    "print(df[['Name', 'Marks']])\n",
    "\n",
    "print(\"\\nStudents with Marks > 80:\")\n",
    "high_scorers = df[df['Marks'] > 80]\n",
    "print(high_scorers)\n",
    "\n",
    "print(\"\\nStudent with the highest marks:\")\n",
    "top_student = df[df['Marks'] == df['Marks'].max()]\n",
    "print(top_student)\n"
   ]
  },
  {
   "cell_type": "code",
   "execution_count": 7,
   "id": "837f50f5-e476-421c-918f-051ddbdf24d2",
   "metadata": {},
   "outputs": [
    {
     "name": "stdout",
     "output_type": "stream",
     "text": [
      "Modified DataFrame with missing values:\n",
      "    Name   Age  Gender  Marks\n",
      "0  Alice  20.0  Female   85.0\n",
      "1    Bob  22.0    Male    NaN\n",
      "2  Carol  19.0  Female   92.0\n",
      "3  David  21.0    Male   74.0\n",
      "4    Eve   NaN  Female   88.0\n"
     ]
    }
   ],
   "source": [
    "import pandas as pd\n",
    "\n",
    "data = {\n",
    "    'Name': ['Alice', 'Bob', 'Carol', 'David', 'Eve'],\n",
    "    'Age': [20, 22, 19, 21, 20],\n",
    "    'Gender': ['Female', 'Male', 'Female', 'Male', 'Female'],\n",
    "    'Marks': [85, 78, 92, 74, 88]\n",
    "}\n",
    "\n",
    "df = pd.DataFrame(data)\n",
    "\n",
    "df.loc[1, 'Marks'] = None\n",
    "df.loc[4, 'Age'] = None\n",
    "\n",
    "print(\"Modified DataFrame with missing values:\")\n",
    "print(df)\n"
   ]
  },
  {
   "cell_type": "code",
   "execution_count": 9,
   "id": "eef600b4-ef14-4a28-95cd-78e92037cd03",
   "metadata": {},
   "outputs": [
    {
     "name": "stdout",
     "output_type": "stream",
     "text": [
      "Original DataFrame with missing values:\n",
      "    Name   Age  Gender  Marks\n",
      "0  Alice  20.0  Female   85.0\n",
      "1    Bob  22.0    Male    NaN\n",
      "2  Carol  19.0  Female   92.0\n",
      "3  David  21.0    Male   74.0\n",
      "4    Eve   NaN  Female   88.0\n",
      "\n",
      "Missing values in the DataFrame:\n",
      "    Name    Age  Gender  Marks\n",
      "0  False  False   False  False\n",
      "1  False  False   False   True\n",
      "2  False  False   False  False\n",
      "3  False  False   False  False\n",
      "4  False   True   False  False\n",
      "\n",
      "DataFrame after filling missing Marks with mean:\n",
      "    Name   Age  Gender  Marks\n",
      "0  Alice  20.0  Female  85.00\n",
      "1    Bob  22.0    Male  84.75\n",
      "2  Carol  19.0  Female  92.00\n",
      "3  David  21.0    Male  74.00\n",
      "4    Eve   NaN  Female  88.00\n",
      "\n",
      "DataFrame after dropping rows with missing Age:\n",
      "    Name   Age  Gender  Marks\n",
      "0  Alice  20.0  Female  85.00\n",
      "1    Bob  22.0    Male  84.75\n",
      "2  Carol  19.0  Female  92.00\n",
      "3  David  21.0    Male  74.00\n"
     ]
    }
   ],
   "source": [
    "import pandas as pd\n",
    "\n",
    "data = {\n",
    "    'Name': ['Alice', 'Bob', 'Carol', 'David', 'Eve'],\n",
    "    'Age': [20, 22, 19, 21, None],\n",
    "    'Gender': ['Female', 'Male', 'Female', 'Male', 'Female'],\n",
    "    'Marks': [85, None, 92, 74, 88]\n",
    "}\n",
    "\n",
    "df = pd.DataFrame(data)\n",
    "\n",
    "print(\"Original DataFrame with missing values:\")\n",
    "print(df)\n",
    "\n",
    "print(\"\\nMissing values in the DataFrame:\")\n",
    "print(df.isnull())\n",
    "\n",
    "mean_marks = df['Marks'].mean()\n",
    "df['Marks'] = df['Marks'].fillna(mean_marks)\n",
    "\n",
    "print(\"\\nDataFrame after filling missing Marks with mean:\")\n",
    "print(df)\n",
    "\n",
    "df = df.dropna(subset=['Age'])\n",
    "\n",
    "print(\"\\nDataFrame after dropping rows with missing Age:\")\n",
    "print(df)\n"
   ]
  },
  {
   "cell_type": "code",
   "execution_count": 10,
   "id": "4f31e774-0fc0-44d2-868a-eb38c7d09de2",
   "metadata": {},
   "outputs": [
    {
     "name": "stdout",
     "output_type": "stream",
     "text": [
      "Mean Age and Marks by Gender:\n",
      "              Age      Marks\n",
      "Gender                      \n",
      "Female  19.666667  88.333333\n",
      "Male    21.500000  76.000000\n",
      "\n",
      "Number of students in each Gender group:\n",
      "Gender\n",
      "Female    3\n",
      "Male      2\n",
      "Name: count, dtype: int64\n"
     ]
    }
   ],
   "source": [
    "import pandas as pd\n",
    "\n",
    "data = {\n",
    "    'Name': ['Alice', 'Bob', 'Carol', 'David', 'Eve'],\n",
    "    'Age': [20, 22, 19, 21, 20],\n",
    "    'Gender': ['Female', 'Male', 'Female', 'Male', 'Female'],\n",
    "    'Marks': [85, 78, 92, 74, 88]\n",
    "}\n",
    "\n",
    "df = pd.DataFrame(data)\n",
    "\n",
    "mean_stats = df.groupby('Gender')[['Age', 'Marks']].mean()\n",
    "print(\"Mean Age and Marks by Gender:\")\n",
    "print(mean_stats)\n",
    "\n",
    "gender_counts = df['Gender'].value_counts()\n",
    "print(\"\\nNumber of students in each Gender group:\")\n",
    "print(gender_counts)\n"
   ]
  },
  {
   "cell_type": "code",
   "execution_count": 11,
   "id": "a5a78608-f250-4c1a-8a20-39ffaa3a005e",
   "metadata": {},
   "outputs": [
    {
     "name": "stdout",
     "output_type": "stream",
     "text": [
      "First five rows of the loaded DataFrame:\n",
      "    Name   Age  Gender  Marks\n",
      "0  Alice  20.0  Female  85.00\n",
      "1    Bob  22.0    Male  84.75\n",
      "2  Carol  19.0  Female  92.00\n",
      "3  David  21.0    Male  74.00\n"
     ]
    }
   ],
   "source": [
    "import pandas as pd\n",
    "\n",
    "data = {\n",
    "    'Name': ['Alice', 'Bob', 'Carol', 'David', 'Eve'],\n",
    "    'Age': [20, 22, 19, 21, None],\n",
    "    'Gender': ['Female', 'Male', 'Female', 'Male', 'Female'],\n",
    "    'Marks': [85, None, 92, 74, 88]\n",
    "}\n",
    "\n",
    "df = pd.DataFrame(data)\n",
    "\n",
    "df['Marks'] = df['Marks'].fillna(df['Marks'].mean())\n",
    "df = df.dropna(subset=['Age'])\n",
    "df.to_csv('students_data.csv', index=False)\n",
    "\n",
    "new_df = pd.read_csv('students_data.csv')\n",
    "print(\"First five rows of the loaded DataFrame:\")\n",
    "print(new_df.head())\n",
    "\n"
   ]
  },
  {
   "cell_type": "code",
   "execution_count": 20,
   "id": "95303cd8-c13a-4fc9-9330-0ec6a6b23b7e",
   "metadata": {},
   "outputs": [
    {
     "name": "stdin",
     "output_type": "stream",
     "text": [
      "Enter the path to your CSV file:  C:/Users/USER/Downloads/marks_final.csv\n"
     ]
    },
    {
     "name": "stdout",
     "output_type": "stream",
     "text": [
      "Summary Statistics:\n",
      "             SNO.   ROLL NUMBER  Top 9 (out of 45)    Out of 30\n",
      "count  1053.00000  1.053000e+03        1053.000000  1053.000000\n",
      "mean    527.00000  1.027862e+08          38.144349    25.430104\n",
      "std     304.11922  1.848957e+07           7.150877     4.766492\n",
      "min       1.00000  1.020037e+08           0.000000     0.000000\n",
      "25%     264.00000  1.022033e+08          37.000000    24.700000\n",
      "50%     527.00000  1.022035e+08          40.000000    26.700000\n",
      "75%     790.00000  1.022038e+08          42.000000    28.000000\n",
      "max    1053.00000  7.022000e+08          45.000000    30.000000\n",
      "\n",
      "Missing Values:\n",
      "SNO.                 0\n",
      "ROLL NUMBER          0\n",
      "Q1 (5)               0\n",
      "Q2 (5)               0\n",
      "Q3 (5)               0\n",
      "Q4 (5)               0\n",
      "Q5 (5)               0\n",
      "Q6 (5)               0\n",
      "Q7 (5)               0\n",
      "Q8 (5)               0\n",
      "Q9 (5)               0\n",
      "Q10 (5)              0\n",
      "Q11 (5)              0\n",
      "Q12 (5)              0\n",
      "Top 9 (out of 45)    0\n",
      "Out of 30            0\n",
      "dtype: int64\n",
      "\n",
      "DataFrame Info:\n",
      "<class 'pandas.core.frame.DataFrame'>\n",
      "RangeIndex: 1053 entries, 0 to 1052\n",
      "Data columns (total 16 columns):\n",
      " #   Column             Non-Null Count  Dtype  \n",
      "---  ------             --------------  -----  \n",
      " 0   SNO.               1053 non-null   int64  \n",
      " 1   ROLL NUMBER        1053 non-null   int64  \n",
      " 2   Q1 (5)             1053 non-null   object \n",
      " 3   Q2 (5)             1053 non-null   object \n",
      " 4   Q3 (5)             1053 non-null   object \n",
      " 5   Q4 (5)             1053 non-null   object \n",
      " 6   Q5 (5)             1053 non-null   object \n",
      " 7   Q6 (5)             1053 non-null   object \n",
      " 8   Q7 (5)             1053 non-null   object \n",
      " 9   Q8 (5)             1053 non-null   object \n",
      " 10  Q9 (5)             1053 non-null   object \n",
      " 11  Q10 (5)            1053 non-null   object \n",
      " 12  Q11 (5)            1053 non-null   object \n",
      " 13  Q12 (5)            1053 non-null   object \n",
      " 14  Top 9 (out of 45)  1053 non-null   int64  \n",
      " 15  Out of 30          1053 non-null   float64\n",
      "dtypes: float64(1), int64(3), object(12)\n",
      "memory usage: 131.8+ KB\n",
      "None\n",
      "\n",
      "First few rows of the DataFrame:\n",
      "   SNO.  ROLL NUMBER Q1 (5) Q2 (5) Q3 (5) Q4 (5) Q5 (5) Q6 (5) Q7 (5) Q8 (5)  \\\n",
      "0     1    102003733     AB     AB     AB     AB     AB     AB      3      5   \n",
      "1     2    102203002      5     AB      4      4      4      4      4      3   \n",
      "2     3    102203003      5      4      4      4      4      5      4      3   \n",
      "3     4    102203005     AB     AB     AB     AB      3      5      3      4   \n",
      "4     5    102203007     AB     AB     AB      5      4      3      3      5   \n",
      "\n",
      "  Q9 (5) Q10 (5) Q11 (5) Q12 (5)  Top 9 (out of 45)  Out of 30  \n",
      "0     AB      AB      AB       4                 12        8.0  \n",
      "1      5       5       5       3                 40       26.7  \n",
      "2      4       5       4       2                 39       26.0  \n",
      "3      4       5       5      AB                 29       19.3  \n",
      "4      3       5       5       3                 36       24.0  \n"
     ]
    },
    {
     "data": {
      "image/png": "[encoded data removed]",
      "text/plain": [
       "<Figure size 1000x1000 with 20 Axes>"
      ]
     },
     "metadata": {},
     "output_type": "display_data"
    },
    {
     "data": {
      "image/png": "[encoded data removed]",
      "text/plain": [
       "<Figure size 1000x600 with 2 Axes>"
      ]
     },
     "metadata": {},
     "output_type": "display_data"
    },
    {
     "name": "stdout",
     "output_type": "stream",
     "text": [
      "\n",
      "Value counts for 'Q1 (5)':\n",
      "Q1 (5)\n",
      "5       546\n",
      "4       227\n",
      "AB      161\n",
      "3        78\n",
      "2        30\n",
      "0         9\n",
      "O AB      1\n",
      "1         1\n",
      "Name: count, dtype: int64\n",
      "\n",
      "Value counts for 'Q2 (5)':\n",
      "Q2 (5)\n",
      "4     278\n",
      "3     254\n",
      "5     193\n",
      "AB    143\n",
      "2     129\n",
      "1      45\n",
      "0      11\n",
      "Name: count, dtype: int64\n",
      "\n",
      "Value counts for 'Q3 (5)':\n",
      "Q3 (5)\n",
      "4     392\n",
      "5     342\n",
      "3     159\n",
      "AB    120\n",
      "2      32\n",
      "1       6\n",
      "0       2\n",
      "Name: count, dtype: int64\n",
      "\n",
      "Value counts for 'Q4 (5)':\n",
      "Q4 (5)\n",
      "5     453\n",
      "4     373\n",
      "AB    122\n",
      "3      80\n",
      "2      12\n",
      "0      10\n",
      "1       3\n",
      "Name: count, dtype: int64\n",
      "\n",
      "Value counts for 'Q5 (5)':\n",
      "Q5 (5)\n",
      "4     316\n",
      "3     286\n",
      "2     163\n",
      "AB    121\n",
      "5     111\n",
      "1      43\n",
      "0      13\n",
      "Name: count, dtype: int64\n",
      "\n",
      "Value counts for 'Q6 (5)':\n",
      "Q6 (5)\n",
      "5     402\n",
      "4     377\n",
      "3     122\n",
      "AB     97\n",
      "2      46\n",
      "1       6\n",
      "0       3\n",
      "Name: count, dtype: int64\n",
      "\n",
      "Value counts for 'Q7 (5)':\n",
      "Q7 (5)\n",
      "4     367\n",
      "3     266\n",
      "5     170\n",
      "AB    125\n",
      "2     104\n",
      "1      19\n",
      "0       2\n",
      "Name: count, dtype: int64\n",
      "\n",
      "Value counts for 'Q8 (5)':\n",
      "Q8 (5)\n",
      "4     443\n",
      "5     270\n",
      "3     185\n",
      "AB    118\n",
      "2      30\n",
      "1       6\n",
      "0       1\n",
      "Name: count, dtype: int64\n",
      "\n",
      "Value counts for 'Q9 (5)':\n",
      "Q9 (5)\n",
      "5     662\n",
      "4     233\n",
      "AB    107\n",
      "3      35\n",
      "2      10\n",
      "0       3\n",
      "1       3\n",
      "Name: count, dtype: int64\n",
      "\n",
      "Value counts for 'Q10 (5)':\n",
      "Q10 (5)\n",
      "5     765\n",
      "4     139\n",
      "AB    112\n",
      "3      25\n",
      "2       8\n",
      "1       3\n",
      "0       1\n",
      "Name: count, dtype: int64\n",
      "\n",
      "Value counts for 'Q11 (5)':\n",
      "Q11 (5)\n",
      "5     559\n",
      "4     316\n",
      "AB    116\n",
      "3      55\n",
      "2       5\n",
      "1       1\n",
      "0       1\n",
      "Name: count, dtype: int64\n",
      "\n",
      "Value counts for 'Q12 (5)':\n",
      "Q12 (5)\n",
      "5     472\n",
      "4     214\n",
      "3     143\n",
      "AB    113\n",
      "2      87\n",
      "1      23\n",
      "0       1\n",
      "Name: count, dtype: int64\n"
     ]
    }
   ],
   "source": [
    "import pandas as pd\n",
    "import seaborn as sns\n",
    "import matplotlib.pyplot as plt\n",
    "\n",
    "file_path = input(\"Enter the path to your CSV file: \")\n",
    "\n",
    "df = pd.read_csv(file_path)\n",
    "\n",
    "print(\"Summary Statistics:\")\n",
    "print(df.describe())\n",
    "\n",
    "print(\"\\nMissing Values:\")\n",
    "print(df.isnull().sum())\n",
    "\n",
    "print(\"\\nDataFrame Info:\")\n",
    "print(df.info())\n",
    "\n",
    "print(\"\\nFirst few rows of the DataFrame:\")\n",
    "print(df.head())\n",
    "\n",
    "numeric_cols = df.select_dtypes(include=['float64', 'int64']).columns\n",
    "categorical_cols = df.select_dtypes(include=['object', 'category']).columns\n",
    "\n",
    "if len(numeric_cols) > 1:\n",
    "    sns.pairplot(df)\n",
    "    plt.suptitle(\"Pairplot of Numeric Features\", y=1.02)\n",
    "    plt.show()\n",
    "\n",
    "    plt.figure(figsize=(10, 6))\n",
    "    sns.heatmap(df[numeric_cols].corr(), annot=True, cmap='coolwarm')\n",
    "    plt.title(\"Feature Correlation Heatmap\")\n",
    "    plt.show()\n",
    "\n",
    "if len(categorical_cols) >= 1:\n",
    "    for col in categorical_cols:\n",
    "        print(f\"\\nValue counts for '{col}':\")\n",
    "        print(df[col].value_counts())\n"
   ]
  },
  {
   "cell_type": "code",
   "execution_count": null,
   "id": "5b019230-31c9-43bc-b340-5fc15455cdf5",
   "metadata": {},
   "outputs": [],
   "source": []
  }
 ],
 "metadata": {
  "kernelspec": {
   "display_name": "Python 3 (ipykernel)",
   "language": "python",
   "name": "python3"
  },
  "language_info": {
   "codemirror_mode": {
    "name": "ipython",
    "version": 3
   },
   "file_extension": ".py",
   "mimetype": "text/x-python",
   "name": "python",
   "nbconvert_exporter": "python",
   "pygments_lexer": "ipython3",
   "version": "3.13.5"
  }
 },
 "nbformat": 4,
 "nbformat_minor": 5
}
